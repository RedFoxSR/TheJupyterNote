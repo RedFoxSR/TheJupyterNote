{
 "cells": [
  {
   "cell_type": "markdown",
   "metadata": {},
   "source": [
    "<center>\n",
    "    <img src=\"https://cf-courses-data.s3.us.cloud-object-storage.appdomain.cloud/IBMDeveloperSkillsNetwork-DS0105EN-SkillsNetwork/labs/Module2/images/SN_web_lightmode.png\" width=\"300\" alt=\"cognitiveclass.ai logo\">\n",
    "</center>\n"
   ]
  },
  {
   "cell_type": "markdown",
   "metadata": {},
   "source": [
    "#### Add your code below following the instructions given in the course\n"
   ]
  },
  {
   "cell_type": "markdown",
   "metadata": {
    "tags": []
   },
   "source": [
    "# The Jupyter Note"
   ]
  },
  {
   "cell_type": "markdown",
   "metadata": {
    "tags": []
   },
   "source": [
    "## Introduction\n",
    "We will analyse data in this notebook so lets get started."
   ]
  },
  {
   "cell_type": "markdown",
   "metadata": {},
   "source": [
    "## Data Science Languages\n",
    "Some examples are Python, Julia, MATLAB and R."
   ]
  },
  {
   "cell_type": "markdown",
   "metadata": {},
   "source": [
    "## Data Science Libraries\n",
    "Some examples are:- \n",
    "- NumPy\n",
    "- Pandas\n",
    "- Matplotlib\n",
    "- Seaborn\n",
    "- scikit-learn\n",
    "- TensorFlow\n",
    "- PyTorch"
   ]
  },
  {
   "cell_type": "markdown",
   "metadata": {},
   "source": [
    "## Data Science Tools\n",
    "| Category        | Tools                |\n",
    "|-----------------|----------------------|\n",
    "| Programming     | Python, R, Julia     |\n",
    "| Data Manipulation | Pandas, dplyr|\n",
    "| Data Visualization | Matplotlib, Seaborn, Plotly |\n",
    "| Machine Learning | scikit-learn, TensorFlow, PyTorch |\n",
    "| Big Data Processing | Apache Spark, Hadoop|"
   ]
  },
  {
   "cell_type": "markdown",
   "metadata": {},
   "source": [
    "## Arithmetic Expression Examples\n",
    "\n",
    "In this section, we will explore some examples of arithmetic expressions. Arithmetic expressions involve mathematical operations such as addition, subtraction, multiplication, and division. Let's look further into this topic."
   ]
  },
  {
   "cell_type": "code",
   "execution_count": 5,
   "metadata": {
    "tags": []
   },
   "outputs": [
    {
     "name": "stdout",
     "output_type": "stream",
     "text": [
      "Multiplication result: 2\n",
      "Addition result: 6\n"
     ]
    }
   ],
   "source": [
    "# Multiply two numbers\n",
    "a = 1\n",
    "b = 2\n",
    "result_multiply = a * b\n",
    "print(\"Multiplication result:\", result_multiply)\n",
    "\n",
    "# Add two numbers\n",
    "c = 2\n",
    "d = 4\n",
    "result_addition = c + d\n",
    "print(\"Addition result:\", result_addition)"
   ]
  },
  {
   "cell_type": "code",
   "execution_count": 7,
   "metadata": {
    "tags": []
   },
   "outputs": [
    {
     "name": "stdout",
     "output_type": "stream",
     "text": [
      "Converted hours: 2.0\n"
     ]
    }
   ],
   "source": [
    "# Convert minutes to hours\n",
    "minutes = 120\n",
    "hours = minutes / 60\n",
    "print(\"Converted hours:\", hours)"
   ]
  },
  {
   "cell_type": "markdown",
   "metadata": {},
   "source": [
    "## Objectives\n",
    "\n",
    "- Learn basics of data science\n",
    "- Learn data manipulation techniques\n",
    "- Know Various data visualization tools and techniques\n",
    "- Build machine learning models\n",
    "- Get hands-on experience with real-world datasets\n",
    "- Present and communicate data analysis findings"
   ]
  },
  {
   "cell_type": "markdown",
   "metadata": {},
   "source": [
    "**Author: Sharath R**"
   ]
  },
  {
   "cell_type": "code",
   "execution_count": null,
   "metadata": {},
   "outputs": [],
   "source": []
  }
 ],
 "metadata": {
  "kernelspec": {
   "display_name": "Python",
   "language": "python",
   "name": "conda-env-python-py"
  },
  "language_info": {
   "codemirror_mode": {
    "name": "ipython",
    "version": 3
   },
   "file_extension": ".py",
   "mimetype": "text/x-python",
   "name": "python",
   "nbconvert_exporter": "python",
   "pygments_lexer": "ipython3",
   "version": "3.7.12"
  }
 },
 "nbformat": 4,
 "nbformat_minor": 4
}
